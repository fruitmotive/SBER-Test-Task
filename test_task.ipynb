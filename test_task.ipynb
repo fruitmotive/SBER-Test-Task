{
  "nbformat": 4,
  "nbformat_minor": 0,
  "metadata": {
    "colab": {
      "provenance": [],
      "collapsed_sections": []
    },
    "kernelspec": {
      "name": "python3",
      "display_name": "Python 3"
    },
    "language_info": {
      "name": "python"
    }
  },
  "cells": [
    {
      "cell_type": "markdown",
      "source": [
        "Работа такого сервиса, как Сбермаркет, в первую очередь завязана на курьера. Когда пользователь делает заказ в продуктовом интернет магазине, то первое, на что он будет обращать внимание - качество доставки и состояние доставленных товаров. Поэтому важной метрикой, за которой необходимо следить каждый день являются численные оценки и отзывы пользователей по доставленным заказам. \n",
        "\n",
        "Критично следить за ежедневным количеством оформленных и доставленных заказов. Очевидно, что такие данные могут обладать сезональностью и метрики могут проседать, например, в рабочие будни, но сравнение метрик за периоды времени могжет многое сказать о \"здоровье\" бизнеса.\n",
        "\n",
        "Сервису необходимо привлекать новую аудиторию. Следить за такой метрикой можно, например, анализируя использование покупателями особых промокодов. У Сбермаркета есть конкуренты на рынке, поэтому стоит также смотреть и за оттоком постоянных пользователей. Если покупатель совершал покупки в течение года каждые две недели, а потом перестал пользоваться сервисом на три месяца, то, вероятно, он отдал предпочтение другому сервису. Отслеживая данные о таких ситауциях можно делать выводы о причиных оттока."
      ],
      "metadata": {
        "id": "dEP_0Z2N62M4"
      }
    },
    {
      "cell_type": "markdown",
      "source": [
        "#**Библиотеки и функции**"
      ],
      "metadata": {
        "id": "QVE3JFDM6D4D"
      }
    },
    {
      "cell_type": "code",
      "execution_count": null,
      "metadata": {
        "colab": {
          "base_uri": "https://localhost:8080/"
        },
        "id": "VPhf5wB8XI4h",
        "outputId": "ff268869-456f-4211-fa68-cc8363d116d9"
      },
      "outputs": [
        {
          "output_type": "stream",
          "name": "stdout",
          "text": [
            "Requirement already satisfied: psycopg2 in /usr/local/lib/python3.7/dist-packages (2.7.6.1)\n"
          ]
        }
      ],
      "source": [
        "!pip install psycopg2\n",
        "import psycopg2\n",
        "import pandas as pd\n",
        "import numpy as np\n",
        "\n",
        "def request(sql_req):\n",
        "    conn = psycopg2.connect(dbname=\"hr-analytics\", user=\"analytics\", password=\"HRanalytics\", host=\"rc1c-fhrb9f1e0l9g611h.mdb.yandexcloud.net\", port=\"6432\")\n",
        "    cursor = conn.cursor()\n",
        "    cursor.execute(sql_req)\n",
        "    records = cursor.fetchall()\n",
        "    cursor.close()\n",
        "    conn.close()\n",
        "    return pd.DataFrame(records)"
      ]
    },
    {
      "cell_type": "markdown",
      "source": [
        "#**Время доставки**"
      ],
      "metadata": {
        "id": "3y6CoIkyq_t8"
      }
    },
    {
      "cell_type": "markdown",
      "source": [
        "Посмотрим на распределение времени, за которое доставляется заказ"
      ],
      "metadata": {
        "id": "Au5yvpOW8FG-"
      }
    },
    {
      "cell_type": "code",
      "source": [
        "times = request(\"select age(shipped_at, created_at) from orders\")"
      ],
      "metadata": {
        "id": "FOBM6yg-76Kl"
      },
      "execution_count": null,
      "outputs": []
    },
    {
      "cell_type": "markdown",
      "source": [
        "Переведем полученные временные интервалы в часы"
      ],
      "metadata": {
        "id": "SXIk0RIT8fuj"
      }
    },
    {
      "cell_type": "code",
      "source": [
        "times[0] = times[0] / np.timedelta64(1, 'h')"
      ],
      "metadata": {
        "id": "YfLb9uOkdCon"
      },
      "execution_count": null,
      "outputs": []
    },
    {
      "cell_type": "markdown",
      "source": [
        "Получим данные о распредлении и пострим гистограмму"
      ],
      "metadata": {
        "id": "MNZgX8Xw8znS"
      }
    },
    {
      "cell_type": "code",
      "source": [
        "print(\"Квантиль уровня 0.5:\", times[0].quantile(0.5))\n",
        "print(\"Квантиль уровня 0.95:\", times[0].quantile(0.95))"
      ],
      "metadata": {
        "colab": {
          "base_uri": "https://localhost:8080/"
        },
        "id": "D6mZpdFO3ydF",
        "outputId": "e14f3463-aaea-417e-a7df-4bae369a45e8"
      },
      "execution_count": null,
      "outputs": [
        {
          "output_type": "stream",
          "name": "stdout",
          "text": [
            "Квантиль уровня 0.5: 25.301944444444445\n",
            "Квантиль уровня 0.95: 358.6218888888889\n"
          ]
        }
      ]
    },
    {
      "cell_type": "markdown",
      "source": [
        "Так как 95% значений меньше примерно 360 часов, то наложим на данные условия, позволяющие корректно отобразить информацию: уберем значения, большие 360, а также значения меньшие 0, так как они, с большой вероятностью, являются багами логов"
      ],
      "metadata": {
        "id": "bd1x0Ggz-G0p"
      }
    },
    {
      "cell_type": "code",
      "source": [
        "times.loc[(times[0] > 0) & (times[0] < 400)].hist()"
      ],
      "metadata": {
        "colab": {
          "base_uri": "https://localhost:8080/",
          "height": 317
        },
        "id": "rNNK16Og0nS7",
        "outputId": "3c22db23-eba4-422e-f907-13d4daf8015d"
      },
      "execution_count": null,
      "outputs": [
        {
          "output_type": "execute_result",
          "data": {
            "text/plain": [
              "array([[<matplotlib.axes._subplots.AxesSubplot object at 0x7f81770c0290>]],\n",
              "      dtype=object)"
            ]
          },
          "metadata": {},
          "execution_count": 6
        },
        {
          "output_type": "display_data",
          "data": {
            "text/plain": [
              "<Figure size 432x288 with 1 Axes>"
            ],
            "image/png": "[encoded data removed]"
          },
          "metadata": {
            "needs_background": "light"
          }
        }
      ]
    },
    {
      "cell_type": "markdown",
      "source": [
        "Распредление явно ассиметрично и позволяет утверждать, что большое количество заказов пользователи стремятся получить в течение суток после оформления заказа. Присутствует, однако, также и значимая часть заказов, которые оформляются на несколько суток или даже не неделю вперед. Такие заказы можно объянить, например, офисными закупками, которые оформляются преждевременно "
      ],
      "metadata": {
        "id": "1RHLOSC1_H_W"
      }
    },
    {
      "cell_type": "markdown",
      "source": [
        "#**Использование промоакций**"
      ],
      "metadata": {
        "id": "4Jz42egVBgvy"
      }
    },
    {
      "cell_type": "markdown",
      "source": [
        "Интересно посмотреть на то, насколько активно используются промоакции (какой процент заказов оформлялся с применением промокодов). Данный показатель может говорить о том, насколько такой способ продвижения интернет магазина эффективен"
      ],
      "metadata": {
        "id": "9duXtUhfCbOY"
      }
    },
    {
      "cell_type": "code",
      "source": [
        "promos = request(\"select item_total, promo_total, cost, total_cost from orders\")\n",
        "print(\"Процент заказов, оформленных с применением промокода:\", round(100 * len(promos.loc[(promos[1] != 0) | (promos[2] != promos[3])]) / len(promos), 2))"
      ],
      "metadata": {
        "colab": {
          "base_uri": "https://localhost:8080/"
        },
        "id": "7Dn_lrZuCZ-0",
        "outputId": "9d14a8c0-6360-43d2-e538-0091d49c2746"
      },
      "execution_count": null,
      "outputs": [
        {
          "output_type": "stream",
          "name": "stdout",
          "text": [
            "Процент заказов, оформленных с применением промокода: 59.53\n"
          ]
        }
      ]
    },
    {
      "cell_type": "markdown",
      "source": [
        "Также интересно посмотреть на то, какую скидку от общего чека вместе с доставкой в среднем дают промокоды"
      ],
      "metadata": {
        "id": "VJnPDQATJ823"
      }
    },
    {
      "cell_type": "code",
      "source": [
        "print(\"Средняя скидка на заказ с доставкой в процентах:\",\\\n",
        "      round(100 * request(\"select (abs(promo_total) + (cost - total_cost)) / (item_total + cost) from orders where item_total != 0 and total_cost != 0\")[0].mean(), 2))"
      ],
      "metadata": {
        "colab": {
          "base_uri": "https://localhost:8080/"
        },
        "id": "ZiJkaZIJLNKl",
        "outputId": "5c0cf4d3-9447-4cc4-a064-1a530f60ab88"
      },
      "execution_count": null,
      "outputs": [
        {
          "output_type": "stream",
          "name": "stdout",
          "text": [
            "Средняя скидка на заказ с доставкой в процентах: 2.73\n"
          ]
        }
      ]
    },
    {
      "cell_type": "markdown",
      "source": [
        "Таким образом, можно утвержать, что при относительно небольшой предлагаемой скидке, удается добиться высокой эффективности от промоакций"
      ],
      "metadata": {
        "id": "3_GxZeNKWx4M"
      }
    },
    {
      "cell_type": "markdown",
      "source": [
        "#**Количетсво единиц товара в заказах**"
      ],
      "metadata": {
        "id": "K1LE2qQXYeIO"
      }
    },
    {
      "cell_type": "markdown",
      "source": [
        "Важным показателем является колличество товаров в потребительской корзине. На основании знаний о распредлении этой величины можно делать более объективные оценки на время сбора заказа курьером. Посмотрим на распределение:"
      ],
      "metadata": {
        "id": "YaH-tP2bao1W"
      }
    },
    {
      "cell_type": "code",
      "source": [
        "quantity = request(\"select total_quantity from orders\")\n",
        "print(\"Квантиль уровня 0.95:\", quantity[0].quantile(0.95))"
      ],
      "metadata": {
        "colab": {
          "base_uri": "https://localhost:8080/"
        },
        "id": "KV2ul9-AYk1B",
        "outputId": "0867db50-3b41-4190-944d-e3e5c6aa0d54"
      },
      "execution_count": null,
      "outputs": [
        {
          "output_type": "stream",
          "name": "stdout",
          "text": [
            "Квантиль уровня 0.95: 101.0\n"
          ]
        }
      ]
    },
    {
      "cell_type": "markdown",
      "source": [
        "Итак, почти 95% заказов включают в себя не больше 100 единиц товара. Дабы более детально посмотреть на распредление типичных заказов, удалим из данных все заказы, количество товаров в которых превышает 100"
      ],
      "metadata": {
        "id": "LSz9gkL6bfYM"
      }
    },
    {
      "cell_type": "code",
      "source": [
        "aux = quantity.loc[quantity[0] < 100]\n",
        "print(\"Средний размер корзины:\", round(aux[0].mean()))"
      ],
      "metadata": {
        "colab": {
          "base_uri": "https://localhost:8080/"
        },
        "id": "58qgPp4ncbgs",
        "outputId": "97cd531e-a932-4186-fd5c-6240496411d4"
      },
      "execution_count": null,
      "outputs": [
        {
          "output_type": "stream",
          "name": "stdout",
          "text": [
            "Средний размер корзины: 35\n"
          ]
        }
      ]
    },
    {
      "cell_type": "code",
      "source": [
        "aux[0].hist()"
      ],
      "metadata": {
        "colab": {
          "base_uri": "https://localhost:8080/",
          "height": 286
        },
        "id": "tfx9NdhadTYx",
        "outputId": "57b76744-796c-40dd-9895-8009c107520a"
      },
      "execution_count": null,
      "outputs": [
        {
          "output_type": "execute_result",
          "data": {
            "text/plain": [
              "<matplotlib.axes._subplots.AxesSubplot at 0x7f8171d305d0>"
            ]
          },
          "metadata": {},
          "execution_count": 34
        },
        {
          "output_type": "display_data",
          "data": {
            "text/plain": [
              "<Figure size 432x288 with 1 Axes>"
            ],
            "image/png": "[encoded data removed]"
          },
          "metadata": {
            "needs_background": "light"
          }
        }
      ]
    },
    {
      "cell_type": "markdown",
      "source": [
        "Итак, распределение обладает ярко выраженным пиком, а средним значением является 35 товаров на корзину. "
      ],
      "metadata": {
        "id": "swS0ynbhdY3x"
      }
    },
    {
      "cell_type": "markdown",
      "source": [
        "#**Замены и отмены**"
      ],
      "metadata": {
        "id": "9CukEjiae8Db"
      }
    },
    {
      "cell_type": "markdown",
      "source": [
        "По проценту заказов, в которых были произведены замены или отмены необходимых товаров, можно судить о проблемах с логистикой поставки внутри компании ритейлера, качестве организации торговых прилавков в магазинах или же быстроте обновления информации о наличии товара на сайте Сбермаркета"
      ],
      "metadata": {
        "id": "hi1_7dXtfh6A"
      }
    },
    {
      "cell_type": "code",
      "source": [
        "replacements = request(\"select retailer_id, 100 * count(distinct order_id) / count(distinct orders.id) from orders inner join stores on orders.store_id = stores.id left join replacements on orders.id = replacements.order_id group by retailer_id\")\n",
        "cancellations = request(\"select retailer_id, 100 * count(distinct order_id) / count(distinct orders.id) from orders inner join stores on orders.store_id = stores.id left join cancellations on orders.id = cancellations.order_id group by retailer_id\")"
      ],
      "metadata": {
        "id": "nHYZAwc70SrF"
      },
      "execution_count": null,
      "outputs": []
    },
    {
      "cell_type": "code",
      "source": [
        "replacements = replacements.rename(columns={0: \"retailer_id\", 1: \"percentage\"})\n",
        "cancellations = cancellations.rename(columns={0: \"retailer_id\", 1: \"percentage\"})"
      ],
      "metadata": {
        "id": "Ha3m9tf62YeT"
      },
      "execution_count": null,
      "outputs": []
    },
    {
      "cell_type": "code",
      "source": [
        "replacements"
      ],
      "metadata": {
        "colab": {
          "base_uri": "https://localhost:8080/",
          "height": 175
        },
        "id": "QkCMg_Zp1UD0",
        "outputId": "f699c63a-a427-40d3-c5d4-71ff5da94c6c"
      },
      "execution_count": null,
      "outputs": [
        {
          "output_type": "execute_result",
          "data": {
            "text/plain": [
              "   retailer_id  percentage\n",
              "0            1          54\n",
              "1            8          74\n",
              "2           15          79\n",
              "3           16          44"
            ],
            "text/html": [
              "\n",
              "  <div id=\"df-4212fef6-0da4-4508-a4ca-d3f9a9b10e81\">\n",
              "    <div class=\"colab-df-container\">\n",
              "      <div>\n",
              "<style scoped>\n",
              "    .dataframe tbody tr th:only-of-type {\n",
              "        vertical-align: middle;\n",
              "    }\n",
              "\n",
              "    .dataframe tbody tr th {\n",
              "        vertical-align: top;\n",
              "    }\n",
              "\n",
              "    .dataframe thead th {\n",
              "        text-align: right;\n",
              "    }\n",
              "</style>\n",
              "<table border=\"1\" class=\"dataframe\">\n",
              "  <thead>\n",
              "    <tr style=\"text-align: right;\">\n",
              "      <th></th>\n",
              "      <th>retailer_id</th>\n",
              "      <th>percentage</th>\n",
              "    </tr>\n",
              "  </thead>\n",
              "  <tbody>\n",
              "    <tr>\n",
              "      <th>0</th>\n",
              "      <td>1</td>\n",
              "      <td>54</td>\n",
              "    </tr>\n",
              "    <tr>\n",
              "      <th>1</th>\n",
              "      <td>8</td>\n",
              "      <td>74</td>\n",
              "    </tr>\n",
              "    <tr>\n",
              "      <th>2</th>\n",
              "      <td>15</td>\n",
              "      <td>79</td>\n",
              "    </tr>\n",
              "    <tr>\n",
              "      <th>3</th>\n",
              "      <td>16</td>\n",
              "      <td>44</td>\n",
              "    </tr>\n",
              "  </tbody>\n",
              "</table>\n",
              "</div>\n",
              "      <button class=\"colab-df-convert\" onclick=\"convertToInteractive('df-4212fef6-0da4-4508-a4ca-d3f9a9b10e81')\"\n",
              "              title=\"Convert this dataframe to an interactive table.\"\n",
              "              style=\"display:none;\">\n",
              "        \n",
              "  <svg xmlns=\"http://www.w3.org/2000/svg\" height=\"24px\"viewBox=\"0 0 24 24\"\n",
              "       width=\"24px\">\n",
              "    <path d=\"M0 0h24v24H0V0z\" fill=\"none\"/>\n",
              "    <path d=\"M18.56 5.44l.94 2.06.94-2.06 2.06-.94-2.06-.94-.94-2.06-.94 2.06-2.06.94zm-11 1L8.5 8.5l.94-2.06 2.06-.94-2.06-.94L8.5 2.5l-.94 2.06-2.06.94zm10 10l.94 2.06.94-2.06 2.06-.94-2.06-.94-.94-2.06-.94 2.06-2.06.94z\"/><path d=\"M17.41 7.96l-1.37-1.37c-.4-.4-.92-.59-1.43-.59-.52 0-1.04.2-1.43.59L10.3 9.45l-7.72 7.72c-.78.78-.78 2.05 0 2.83L4 21.41c.39.39.9.59 1.41.59.51 0 1.02-.2 1.41-.59l7.78-7.78 2.81-2.81c.8-.78.8-2.07 0-2.86zM5.41 20L4 18.59l7.72-7.72 1.47 1.35L5.41 20z\"/>\n",
              "  </svg>\n",
              "      </button>\n",
              "      \n",
              "  <style>\n",
              "    .colab-df-container {\n",
              "      display:flex;\n",
              "      flex-wrap:wrap;\n",
              "      gap: 12px;\n",
              "    }\n",
              "\n",
              "    .colab-df-convert {\n",
              "      background-color: #E8F0FE;\n",
              "      border: none;\n",
              "      border-radius: 50%;\n",
              "      cursor: pointer;\n",
              "      display: none;\n",
              "      fill: #1967D2;\n",
              "      height: 32px;\n",
              "      padding: 0 0 0 0;\n",
              "      width: 32px;\n",
              "    }\n",
              "\n",
              "    .colab-df-convert:hover {\n",
              "      background-color: #E2EBFA;\n",
              "      box-shadow: 0px 1px 2px rgba(60, 64, 67, 0.3), 0px 1px 3px 1px rgba(60, 64, 67, 0.15);\n",
              "      fill: #174EA6;\n",
              "    }\n",
              "\n",
              "    [theme=dark] .colab-df-convert {\n",
              "      background-color: #3B4455;\n",
              "      fill: #D2E3FC;\n",
              "    }\n",
              "\n",
              "    [theme=dark] .colab-df-convert:hover {\n",
              "      background-color: #434B5C;\n",
              "      box-shadow: 0px 1px 3px 1px rgba(0, 0, 0, 0.15);\n",
              "      filter: drop-shadow(0px 1px 2px rgba(0, 0, 0, 0.3));\n",
              "      fill: #FFFFFF;\n",
              "    }\n",
              "  </style>\n",
              "\n",
              "      <script>\n",
              "        const buttonEl =\n",
              "          document.querySelector('#df-4212fef6-0da4-4508-a4ca-d3f9a9b10e81 button.colab-df-convert');\n",
              "        buttonEl.style.display =\n",
              "          google.colab.kernel.accessAllowed ? 'block' : 'none';\n",
              "\n",
              "        async function convertToInteractive(key) {\n",
              "          const element = document.querySelector('#df-4212fef6-0da4-4508-a4ca-d3f9a9b10e81');\n",
              "          const dataTable =\n",
              "            await google.colab.kernel.invokeFunction('convertToInteractive',\n",
              "                                                     [key], {});\n",
              "          if (!dataTable) return;\n",
              "\n",
              "          const docLinkHtml = 'Like what you see? Visit the ' +\n",
              "            '<a target=\"_blank\" href=https://colab.research.google.com/notebooks/data_table.ipynb>data table notebook</a>'\n",
              "            + ' to learn more about interactive tables.';\n",
              "          element.innerHTML = '';\n",
              "          dataTable['output_type'] = 'display_data';\n",
              "          await google.colab.output.renderOutput(dataTable, element);\n",
              "          const docLink = document.createElement('div');\n",
              "          docLink.innerHTML = docLinkHtml;\n",
              "          element.appendChild(docLink);\n",
              "        }\n",
              "      </script>\n",
              "    </div>\n",
              "  </div>\n",
              "  "
            ]
          },
          "metadata": {},
          "execution_count": 46
        }
      ]
    },
    {
      "cell_type": "code",
      "source": [
        "cancellations"
      ],
      "metadata": {
        "colab": {
          "base_uri": "https://localhost:8080/",
          "height": 175
        },
        "id": "a0BLFATY1XGs",
        "outputId": "34181d43-6aab-4041-ba75-086f98270b53"
      },
      "execution_count": null,
      "outputs": [
        {
          "output_type": "execute_result",
          "data": {
            "text/plain": [
              "   retailer_id  percentage\n",
              "0            1          60\n",
              "1            8          66\n",
              "2           15          73\n",
              "3           16          49"
            ],
            "text/html": [
              "\n",
              "  <div id=\"df-487600d3-7a29-4e03-a037-f07af2761386\">\n",
              "    <div class=\"colab-df-container\">\n",
              "      <div>\n",
              "<style scoped>\n",
              "    .dataframe tbody tr th:only-of-type {\n",
              "        vertical-align: middle;\n",
              "    }\n",
              "\n",
              "    .dataframe tbody tr th {\n",
              "        vertical-align: top;\n",
              "    }\n",
              "\n",
              "    .dataframe thead th {\n",
              "        text-align: right;\n",
              "    }\n",
              "</style>\n",
              "<table border=\"1\" class=\"dataframe\">\n",
              "  <thead>\n",
              "    <tr style=\"text-align: right;\">\n",
              "      <th></th>\n",
              "      <th>retailer_id</th>\n",
              "      <th>percentage</th>\n",
              "    </tr>\n",
              "  </thead>\n",
              "  <tbody>\n",
              "    <tr>\n",
              "      <th>0</th>\n",
              "      <td>1</td>\n",
              "      <td>60</td>\n",
              "    </tr>\n",
              "    <tr>\n",
              "      <th>1</th>\n",
              "      <td>8</td>\n",
              "      <td>66</td>\n",
              "    </tr>\n",
              "    <tr>\n",
              "      <th>2</th>\n",
              "      <td>15</td>\n",
              "      <td>73</td>\n",
              "    </tr>\n",
              "    <tr>\n",
              "      <th>3</th>\n",
              "      <td>16</td>\n",
              "      <td>49</td>\n",
              "    </tr>\n",
              "  </tbody>\n",
              "</table>\n",
              "</div>\n",
              "      <button class=\"colab-df-convert\" onclick=\"convertToInteractive('df-487600d3-7a29-4e03-a037-f07af2761386')\"\n",
              "              title=\"Convert this dataframe to an interactive table.\"\n",
              "              style=\"display:none;\">\n",
              "        \n",
              "  <svg xmlns=\"http://www.w3.org/2000/svg\" height=\"24px\"viewBox=\"0 0 24 24\"\n",
              "       width=\"24px\">\n",
              "    <path d=\"M0 0h24v24H0V0z\" fill=\"none\"/>\n",
              "    <path d=\"M18.56 5.44l.94 2.06.94-2.06 2.06-.94-2.06-.94-.94-2.06-.94 2.06-2.06.94zm-11 1L8.5 8.5l.94-2.06 2.06-.94-2.06-.94L8.5 2.5l-.94 2.06-2.06.94zm10 10l.94 2.06.94-2.06 2.06-.94-2.06-.94-.94-2.06-.94 2.06-2.06.94z\"/><path d=\"M17.41 7.96l-1.37-1.37c-.4-.4-.92-.59-1.43-.59-.52 0-1.04.2-1.43.59L10.3 9.45l-7.72 7.72c-.78.78-.78 2.05 0 2.83L4 21.41c.39.39.9.59 1.41.59.51 0 1.02-.2 1.41-.59l7.78-7.78 2.81-2.81c.8-.78.8-2.07 0-2.86zM5.41 20L4 18.59l7.72-7.72 1.47 1.35L5.41 20z\"/>\n",
              "  </svg>\n",
              "      </button>\n",
              "      \n",
              "  <style>\n",
              "    .colab-df-container {\n",
              "      display:flex;\n",
              "      flex-wrap:wrap;\n",
              "      gap: 12px;\n",
              "    }\n",
              "\n",
              "    .colab-df-convert {\n",
              "      background-color: #E8F0FE;\n",
              "      border: none;\n",
              "      border-radius: 50%;\n",
              "      cursor: pointer;\n",
              "      display: none;\n",
              "      fill: #1967D2;\n",
              "      height: 32px;\n",
              "      padding: 0 0 0 0;\n",
              "      width: 32px;\n",
              "    }\n",
              "\n",
              "    .colab-df-convert:hover {\n",
              "      background-color: #E2EBFA;\n",
              "      box-shadow: 0px 1px 2px rgba(60, 64, 67, 0.3), 0px 1px 3px 1px rgba(60, 64, 67, 0.15);\n",
              "      fill: #174EA6;\n",
              "    }\n",
              "\n",
              "    [theme=dark] .colab-df-convert {\n",
              "      background-color: #3B4455;\n",
              "      fill: #D2E3FC;\n",
              "    }\n",
              "\n",
              "    [theme=dark] .colab-df-convert:hover {\n",
              "      background-color: #434B5C;\n",
              "      box-shadow: 0px 1px 3px 1px rgba(0, 0, 0, 0.15);\n",
              "      filter: drop-shadow(0px 1px 2px rgba(0, 0, 0, 0.3));\n",
              "      fill: #FFFFFF;\n",
              "    }\n",
              "  </style>\n",
              "\n",
              "      <script>\n",
              "        const buttonEl =\n",
              "          document.querySelector('#df-487600d3-7a29-4e03-a037-f07af2761386 button.colab-df-convert');\n",
              "        buttonEl.style.display =\n",
              "          google.colab.kernel.accessAllowed ? 'block' : 'none';\n",
              "\n",
              "        async function convertToInteractive(key) {\n",
              "          const element = document.querySelector('#df-487600d3-7a29-4e03-a037-f07af2761386');\n",
              "          const dataTable =\n",
              "            await google.colab.kernel.invokeFunction('convertToInteractive',\n",
              "                                                     [key], {});\n",
              "          if (!dataTable) return;\n",
              "\n",
              "          const docLinkHtml = 'Like what you see? Visit the ' +\n",
              "            '<a target=\"_blank\" href=https://colab.research.google.com/notebooks/data_table.ipynb>data table notebook</a>'\n",
              "            + ' to learn more about interactive tables.';\n",
              "          element.innerHTML = '';\n",
              "          dataTable['output_type'] = 'display_data';\n",
              "          await google.colab.output.renderOutput(dataTable, element);\n",
              "          const docLink = document.createElement('div');\n",
              "          docLink.innerHTML = docLinkHtml;\n",
              "          element.appendChild(docLink);\n",
              "        }\n",
              "      </script>\n",
              "    </div>\n",
              "  </div>\n",
              "  "
            ]
          },
          "metadata": {},
          "execution_count": 47
        }
      ]
    },
    {
      "cell_type": "markdown",
      "source": [
        "Как видно из таблиц, самые большие проблемы с заменами и отменами товаров имеют ритейлеры с id 8 и 15. Однако, даже у ритейлера с id 16, около половины всех заказов изменяются на этапе сборки.\n",
        "\n",
        "Можно заключить, что большой проблемой является недостаточная скорость обновления данных о наличии товаров на сайте Сбермаркета. Не стоит также и исключать человеческий фактор при сборке заказов в больших супермаркетах. Помимо прочего, проблема может скрываться в заказах, которые оформляют преждевременно. Наличие товара на момент оформления заказа не гарантирует его наличия на этапе сборки. Недовольство подобными ситуациями со стороны покупателей можно сгладить, если помещать на страницу товаров, которые обладают высокой популярностью, но редкими поставками, предупреждение о том, что на момент сборки заказа, товара может не оказаться в наличии.\n",
        "\n"
      ],
      "metadata": {
        "id": "egWRuI1P2qcL"
      }
    }
  ]
}